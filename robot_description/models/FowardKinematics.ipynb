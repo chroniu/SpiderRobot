{
 "cells": [
  {
   "cell_type": "code",
   "execution_count": 1,
   "metadata": {
    "collapsed": false
   },
   "outputs": [],
   "source": [
    "from math import sin, cos, pi\n",
    "\n",
    "COXA_L = 0.5439788598833598\n",
    "FEMUR_L = 0.3628015986734347\n",
    "TIBIA_L = 0.5755866572463264\n",
    "FEMUR_OFFSET = -0.05\n",
    "\n",
    "COXA_MIN = - pi/2\n",
    "COXA_MAX = 180\n",
    "FEMUR_MIN = - pi/2\n",
    "FEMUR_MAX = 180\n",
    "TIBIA_MIN = - pi/2\n",
    "TIBIA_MAX = 180\n",
    "INCREMENT = 1 * 180/pi #1 grau de incremento\n",
    "\n",
    "def foward_kinematics(coxa, femur, tibia):\n",
    "    f_x = -COXA_L * cos(coxa)\n",
    "    f_y =  COXA_L * sin(coxa)\n",
    "    f_z =  FEMUR_OFFSET\n",
    "    \n",
    "    return (f_x - FEMUR_L * cos(femur) + tibia*cos(femur+tibia),\n",
    "            f_y, f_z + femur * sin(femur) + tibia * sin(femur+tibia))\n",
    "\n",
    "#gera os dados de treino e já elimina duplicatas\n",
    "def gen_train_data():\n",
    "    data = dict()\n",
    "    for coxa in range(1, COXA_MAX):\n",
    "        for femur in range(1, FEMUR_MAX):\n",
    "            for tibia in range(1, TIBIA_MAX):\n",
    "                angles = (COXA_MIN + coxa*INCREMENT, FEMUR_MIN + femur* INCREMENT, TIBIA_MIN + tibia * INCREMENT)\n",
    "                data[foward_kinematics(*angles)] = angles \n",
    "    return data\n",
    "train_data = gen_train_data()\n",
    "\n",
    "                "
   ]
  },
  {
   "cell_type": "code",
   "execution_count": 2,
   "metadata": {
    "collapsed": false
   },
   "outputs": [],
   "source": [
    "from sklearn.neural_network import MLPRegressor\n",
    "import numpy as np\n",
    "\n",
    "\n",
    "labels_c =  np.empty([len(train_data), 3])\n",
    "features_c = np.empty([len(train_data),3])\n",
    "\n",
    "i = 0\n",
    "for key, value in train_data.items():\n",
    "    labels_c[i] = np.array(key)\n",
    "    features_c[i] = np.array(value)\n",
    "    i +=1\n",
    "\n",
    "    "
   ]
  },
  {
   "cell_type": "code",
   "execution_count": null,
   "metadata": {
    "collapsed": false
   },
   "outputs": [
    {
     "data": {
      "text/plain": [
       "MLPRegressor(activation='relu', alpha=1e-05, batch_size='auto', beta_1=0.9,\n",
       "       beta_2=0.999, early_stopping=False, epsilon=1e-08,\n",
       "       hidden_layer_sizes=(100, 50), learning_rate='constant',\n",
       "       learning_rate_init=0.001, max_iter=200, momentum=0.9,\n",
       "       nesterovs_momentum=True, power_t=0.5, random_state=None,\n",
       "       shuffle=True, solver='adam', tol=0.0001, validation_fraction=0.1,\n",
       "       verbose=False, warm_start=False)"
      ]
     },
     "execution_count": 3,
     "metadata": {},
     "output_type": "execute_result"
    }
   ],
   "source": [
    "\n",
    "clf = MLPRegressor(alpha=1e-5,hidden_layer_sizes=(100,50))\n",
    "\n",
    "#clf.fit(features, labels)\n",
    "clf.fit(features_c, labels_c)\n",
    "\n"
   ]
  },
  {
   "cell_type": "code",
   "execution_count": null,
   "metadata": {
    "collapsed": true
   },
   "outputs": [],
   "source": [
    "print clf.score(features_c, labels_c)"
   ]
  },
  {
   "cell_type": "code",
   "execution_count": null,
   "metadata": {
    "collapsed": true
   },
   "outputs": [],
   "source": [
    "print clf.predict(features_c[100])\n",
    "print labels_c[100]\n",
    "\n",
    "print features_c[200]\n",
    "print clf.predict(features_c[200])"
   ]
  },
  {
   "cell_type": "code",
   "execution_count": null,
   "metadata": {
    "collapsed": true
   },
   "outputs": [],
   "source": []
  }
 ],
 "metadata": {
  "kernelspec": {
   "display_name": "Python 2",
   "language": "python",
   "name": "python2"
  },
  "language_info": {
   "codemirror_mode": {
    "name": "ipython",
    "version": 2
   },
   "file_extension": ".py",
   "mimetype": "text/x-python",
   "name": "python",
   "nbconvert_exporter": "python",
   "pygments_lexer": "ipython2",
   "version": "2.7.13"
  }
 },
 "nbformat": 4,
 "nbformat_minor": 2
}
